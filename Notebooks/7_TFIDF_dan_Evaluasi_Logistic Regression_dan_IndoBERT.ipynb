{
 "cells": [
  {
   "cell_type": "code",
   "execution_count": 1,
   "id": "cd550cc5",
   "metadata": {},
   "outputs": [
    {
     "name": "stdout",
     "output_type": "stream",
     "text": [
      "Defaulting to user installation because normal site-packages is not writeable\n",
      "Requirement already satisfied: pandas in c:\\users\\wede\\appdata\\roaming\\python\\python313\\site-packages (2.3.3)\n",
      "Requirement already satisfied: torch in c:\\users\\wede\\appdata\\roaming\\python\\python313\\site-packages (2.8.0)\n",
      "Requirement already satisfied: transformers in c:\\users\\wede\\appdata\\roaming\\python\\python313\\site-packages (4.56.0)\n",
      "Requirement already satisfied: scikit-learn in c:\\users\\wede\\appdata\\roaming\\python\\python313\\site-packages (1.7.1)\n",
      "Requirement already satisfied: datasets in c:\\users\\wede\\appdata\\roaming\\python\\python313\\site-packages (4.0.0)\n",
      "Requirement already satisfied: seaborn in c:\\users\\wede\\appdata\\roaming\\python\\python313\\site-packages (0.13.2)\n",
      "Requirement already satisfied: matplotlib in c:\\users\\wede\\appdata\\roaming\\python\\python313\\site-packages (3.10.3)\n",
      "Requirement already satisfied: accelerate in c:\\users\\wede\\appdata\\roaming\\python\\python313\\site-packages (1.10.1)\n",
      "Requirement already satisfied: openpyxl in c:\\users\\wede\\appdata\\roaming\\python\\python313\\site-packages (3.1.5)\n",
      "Requirement already satisfied: numpy>=1.26.0 in c:\\users\\wede\\appdata\\roaming\\python\\python313\\site-packages (from pandas) (2.3.1)\n",
      "Requirement already satisfied: python-dateutil>=2.8.2 in c:\\users\\wede\\appdata\\roaming\\python\\python313\\site-packages (from pandas) (2.9.0.post0)\n",
      "Requirement already satisfied: pytz>=2020.1 in c:\\users\\wede\\appdata\\roaming\\python\\python313\\site-packages (from pandas) (2025.2)\n",
      "Requirement already satisfied: tzdata>=2022.7 in c:\\users\\wede\\appdata\\roaming\\python\\python313\\site-packages (from pandas) (2025.2)\n",
      "Requirement already satisfied: filelock in c:\\users\\wede\\appdata\\roaming\\python\\python313\\site-packages (from torch) (3.19.1)\n",
      "Requirement already satisfied: typing-extensions>=4.10.0 in c:\\users\\wede\\appdata\\roaming\\python\\python313\\site-packages (from torch) (4.14.1)\n",
      "Requirement already satisfied: sympy>=1.13.3 in c:\\users\\wede\\appdata\\roaming\\python\\python313\\site-packages (from torch) (1.14.0)\n",
      "Requirement already satisfied: networkx in c:\\users\\wede\\appdata\\roaming\\python\\python313\\site-packages (from torch) (3.5)\n",
      "Requirement already satisfied: jinja2 in c:\\users\\wede\\appdata\\roaming\\python\\python313\\site-packages (from torch) (3.1.6)\n",
      "Requirement already satisfied: fsspec in c:\\users\\wede\\appdata\\roaming\\python\\python313\\site-packages (from torch) (2025.3.0)\n",
      "Requirement already satisfied: setuptools in c:\\users\\wede\\appdata\\roaming\\python\\python313\\site-packages (from torch) (80.9.0)\n",
      "Requirement already satisfied: huggingface-hub<1.0,>=0.34.0 in c:\\users\\wede\\appdata\\roaming\\python\\python313\\site-packages (from transformers) (0.34.4)\n",
      "Requirement already satisfied: packaging>=20.0 in c:\\users\\wede\\appdata\\roaming\\python\\python313\\site-packages (from transformers) (25.0)\n",
      "Requirement already satisfied: pyyaml>=5.1 in c:\\users\\wede\\appdata\\roaming\\python\\python313\\site-packages (from transformers) (6.0.2)\n",
      "Requirement already satisfied: regex!=2019.12.17 in c:\\users\\wede\\appdata\\roaming\\python\\python313\\site-packages (from transformers) (2025.7.34)\n",
      "Requirement already satisfied: requests in c:\\users\\wede\\appdata\\roaming\\python\\python313\\site-packages (from transformers) (2.32.4)\n",
      "Requirement already satisfied: tokenizers<=0.23.0,>=0.22.0 in c:\\users\\wede\\appdata\\roaming\\python\\python313\\site-packages (from transformers) (0.22.0)\n",
      "Requirement already satisfied: safetensors>=0.4.3 in c:\\users\\wede\\appdata\\roaming\\python\\python313\\site-packages (from transformers) (0.6.2)\n",
      "Requirement already satisfied: tqdm>=4.27 in c:\\users\\wede\\appdata\\roaming\\python\\python313\\site-packages (from transformers) (4.67.1)\n",
      "Requirement already satisfied: scipy>=1.8.0 in c:\\users\\wede\\appdata\\roaming\\python\\python313\\site-packages (from scikit-learn) (1.16.1)\n",
      "Requirement already satisfied: joblib>=1.2.0 in c:\\users\\wede\\appdata\\roaming\\python\\python313\\site-packages (from scikit-learn) (1.5.1)\n",
      "Requirement already satisfied: threadpoolctl>=3.1.0 in c:\\users\\wede\\appdata\\roaming\\python\\python313\\site-packages (from scikit-learn) (3.6.0)\n",
      "Requirement already satisfied: pyarrow>=15.0.0 in c:\\users\\wede\\appdata\\roaming\\python\\python313\\site-packages (from datasets) (21.0.0)\n",
      "Requirement already satisfied: dill<0.3.9,>=0.3.0 in c:\\users\\wede\\appdata\\roaming\\python\\python313\\site-packages (from datasets) (0.3.8)\n",
      "Requirement already satisfied: xxhash in c:\\users\\wede\\appdata\\roaming\\python\\python313\\site-packages (from datasets) (3.5.0)\n",
      "Requirement already satisfied: multiprocess<0.70.17 in c:\\users\\wede\\appdata\\roaming\\python\\python313\\site-packages (from datasets) (0.70.16)\n",
      "Requirement already satisfied: aiohttp!=4.0.0a0,!=4.0.0a1 in c:\\users\\wede\\appdata\\roaming\\python\\python313\\site-packages (from fsspec[http]<=2025.3.0,>=2023.1.0->datasets) (3.12.15)\n",
      "Requirement already satisfied: contourpy>=1.0.1 in c:\\users\\wede\\appdata\\roaming\\python\\python313\\site-packages (from matplotlib) (1.3.2)\n",
      "Requirement already satisfied: cycler>=0.10 in c:\\users\\wede\\appdata\\roaming\\python\\python313\\site-packages (from matplotlib) (0.12.1)\n",
      "Requirement already satisfied: fonttools>=4.22.0 in c:\\users\\wede\\appdata\\roaming\\python\\python313\\site-packages (from matplotlib) (4.58.4)\n",
      "Requirement already satisfied: kiwisolver>=1.3.1 in c:\\users\\wede\\appdata\\roaming\\python\\python313\\site-packages (from matplotlib) (1.4.8)\n",
      "Requirement already satisfied: pillow>=8 in c:\\users\\wede\\appdata\\roaming\\python\\python313\\site-packages (from matplotlib) (11.2.1)\n",
      "Requirement already satisfied: pyparsing>=2.3.1 in c:\\users\\wede\\appdata\\roaming\\python\\python313\\site-packages (from matplotlib) (3.2.3)\n",
      "Requirement already satisfied: psutil in c:\\users\\wede\\appdata\\roaming\\python\\python313\\site-packages (from accelerate) (7.0.0)\n",
      "Requirement already satisfied: et-xmlfile in c:\\users\\wede\\appdata\\roaming\\python\\python313\\site-packages (from openpyxl) (2.0.0)\n",
      "Requirement already satisfied: aiohappyeyeballs>=2.5.0 in c:\\users\\wede\\appdata\\roaming\\python\\python313\\site-packages (from aiohttp!=4.0.0a0,!=4.0.0a1->fsspec[http]<=2025.3.0,>=2023.1.0->datasets) (2.6.1)\n",
      "Requirement already satisfied: aiosignal>=1.4.0 in c:\\users\\wede\\appdata\\roaming\\python\\python313\\site-packages (from aiohttp!=4.0.0a0,!=4.0.0a1->fsspec[http]<=2025.3.0,>=2023.1.0->datasets) (1.4.0)\n",
      "Requirement already satisfied: attrs>=17.3.0 in c:\\users\\wede\\appdata\\roaming\\python\\python313\\site-packages (from aiohttp!=4.0.0a0,!=4.0.0a1->fsspec[http]<=2025.3.0,>=2023.1.0->datasets) (25.3.0)\n",
      "Requirement already satisfied: frozenlist>=1.1.1 in c:\\users\\wede\\appdata\\roaming\\python\\python313\\site-packages (from aiohttp!=4.0.0a0,!=4.0.0a1->fsspec[http]<=2025.3.0,>=2023.1.0->datasets) (1.7.0)\n",
      "Requirement already satisfied: multidict<7.0,>=4.5 in c:\\users\\wede\\appdata\\roaming\\python\\python313\\site-packages (from aiohttp!=4.0.0a0,!=4.0.0a1->fsspec[http]<=2025.3.0,>=2023.1.0->datasets) (6.6.4)\n",
      "Requirement already satisfied: propcache>=0.2.0 in c:\\users\\wede\\appdata\\roaming\\python\\python313\\site-packages (from aiohttp!=4.0.0a0,!=4.0.0a1->fsspec[http]<=2025.3.0,>=2023.1.0->datasets) (0.3.2)\n",
      "Requirement already satisfied: yarl<2.0,>=1.17.0 in c:\\users\\wede\\appdata\\roaming\\python\\python313\\site-packages (from aiohttp!=4.0.0a0,!=4.0.0a1->fsspec[http]<=2025.3.0,>=2023.1.0->datasets) (1.20.1)\n",
      "Requirement already satisfied: idna>=2.0 in c:\\users\\wede\\appdata\\roaming\\python\\python313\\site-packages (from yarl<2.0,>=1.17.0->aiohttp!=4.0.0a0,!=4.0.0a1->fsspec[http]<=2025.3.0,>=2023.1.0->datasets) (3.10)\n",
      "Requirement already satisfied: six>=1.5 in c:\\users\\wede\\appdata\\roaming\\python\\python313\\site-packages (from python-dateutil>=2.8.2->pandas) (1.17.0)\n",
      "Requirement already satisfied: charset_normalizer<4,>=2 in c:\\users\\wede\\appdata\\roaming\\python\\python313\\site-packages (from requests->transformers) (3.4.2)\n",
      "Requirement already satisfied: urllib3<3,>=1.21.1 in c:\\users\\wede\\appdata\\roaming\\python\\python313\\site-packages (from requests->transformers) (2.5.0)\n",
      "Requirement already satisfied: certifi>=2017.4.17 in c:\\users\\wede\\appdata\\roaming\\python\\python313\\site-packages (from requests->transformers) (2025.8.3)\n",
      "Requirement already satisfied: mpmath<1.4,>=1.1.0 in c:\\users\\wede\\appdata\\roaming\\python\\python313\\site-packages (from sympy>=1.13.3->torch) (1.3.0)\n",
      "Requirement already satisfied: colorama in c:\\users\\wede\\appdata\\roaming\\python\\python313\\site-packages (from tqdm>=4.27->transformers) (0.4.6)\n",
      "Requirement already satisfied: MarkupSafe>=2.0 in c:\\users\\wede\\appdata\\roaming\\python\\python313\\site-packages (from jinja2->torch) (3.0.2)\n",
      "Note: you may need to restart the kernel to use updated packages.\n"
     ]
    }
   ],
   "source": [
    "pip install pandas torch transformers scikit-learn datasets seaborn matplotlib accelerate openpyxl"
   ]
  },
  {
   "cell_type": "code",
   "execution_count": 2,
   "id": "34814581",
   "metadata": {},
   "outputs": [
    {
     "name": "stderr",
     "output_type": "stream",
     "text": [
      "C:\\Users\\Wede\\AppData\\Roaming\\Python\\Python313\\site-packages\\tqdm\\auto.py:21: TqdmWarning: IProgress not found. Please update jupyter and ipywidgets. See https://ipywidgets.readthedocs.io/en/stable/user_install.html\n",
      "  from .autonotebook import tqdm as notebook_tqdm\n"
     ]
    }
   ],
   "source": [
    "import pandas as pd\n",
    "from sklearn.model_selection import train_test_split\n",
    "from sklearn.feature_extraction.text import TfidfVectorizer\n",
    "from sklearn.linear_model import LogisticRegression\n",
    "from sklearn.metrics import classification_report, accuracy_score, confusion_matrix\n",
    "import seaborn as sns\n",
    "import matplotlib.pyplot as plt\n",
    "import torch\n",
    "from transformers import AutoTokenizer, AutoModelForSequenceClassification, Trainer, TrainingArguments\n",
    "from datasets import Dataset\n",
    "import numpy as np"
   ]
  },
  {
   "cell_type": "code",
   "execution_count": 3,
   "id": "513a639a",
   "metadata": {},
   "outputs": [
    {
     "name": "stdout",
     "output_type": "stream",
     "text": [
      "--- MEMUAT DAN MEMBERSIHKAN DATA ---\n",
      "File '../Data/hasil_pelabelan_transjakarta.csv' berhasil dibaca. Jumlah data setelah dibersihkan: 150 baris.\n"
     ]
    }
   ],
   "source": [
    "# --- MEMUAT DAN MEMBERSIHKAN DATA ---\n",
    "print(\"--- MEMUAT DAN MEMBERSIHKAN DATA ---\")\n",
    "input_filename = '../Data/hasil_pelabelan_transjakarta.csv'\n",
    "try:\n",
    "    df = pd.read_csv(input_filename)\n",
    "    df.dropna(subset=['Teks_Stemmed'], inplace=True)\n",
    "    df = df[df['Teks_Stemmed'].str.strip() != '']\n",
    "    print(f\"File '{input_filename}' berhasil dibaca. Jumlah data setelah dibersihkan: {len(df)} baris.\")\n",
    "except FileNotFoundError:\n",
    "    print(f\"Error: File '{input_filename}' tidak ditemukan.\")\n",
    "    exit()"
   ]
  },
  {
   "cell_type": "code",
   "execution_count": 4,
   "id": "9620b406",
   "metadata": {},
   "outputs": [
    {
     "name": "stdout",
     "output_type": "stream",
     "text": [
      "\n",
      "--- PERSIAPAN DAN PEMBAGIAN DATA ---\n",
      "Data dibagi menjadi: 120 data latih dan 30 data uji.\n"
     ]
    }
   ],
   "source": [
    "# --- PERSIAPAN DAN PEMBAGIAN DATA ---\n",
    "print(\"\\n--- PERSIAPAN DAN PEMBAGIAN DATA ---\")\n",
    "# Konversi label sentimen menjadi angka untuk model\n",
    "labels = sorted(df['Sentimen'].unique())\n",
    "label_map = {label: i for i, label in enumerate(labels)}\n",
    "df['label'] = df['Sentimen'].map(label_map)\n",
    "\n",
    "# Bagi data menjadi set latih (80%) dan set uji (20%)\n",
    "X = df['Teks_Stemmed']\n",
    "y = df['Sentimen']\n",
    "X_train, X_test, y_train, y_test = train_test_split(X, y, test_size=0.2, random_state=42, stratify=y)\n",
    "print(f\"Data dibagi menjadi: {len(X_train)} data latih dan {len(X_test)} data uji.\")"
   ]
  },
  {
   "cell_type": "markdown",
   "id": "86c9e244",
   "metadata": {},
   "source": [
    "# TAHAP MODEL UNTUK TF-IDF DAN LOGISTIC REGRESSION"
   ]
  },
  {
   "cell_type": "code",
   "execution_count": 5,
   "id": "bf1d7209",
   "metadata": {},
   "outputs": [
    {
     "name": "stdout",
     "output_type": "stream",
     "text": [
      "\n",
      "\n",
      "--- MEMULAI TAHAP MODEL UNTUK TF-IDF DAN LOGISTIC REGRESSION ---\n",
      "\n",
      "--- FEATURE ENGINEERING (TF-IDF) ---\n",
      "Fitur TF-IDF berhasil dibuat.\n"
     ]
    }
   ],
   "source": [
    "print(\"\\n\\n--- MEMULAI TAHAP MODEL UNTUK TF-IDF DAN LOGISTIC REGRESSION ---\")\n",
    "\n",
    "# --- FEATURE ENGINEERING DENGAN TF-IDF ---\n",
    "print(\"\\n--- FEATURE ENGINEERING (TF-IDF) ---\")\n",
    "tfidf_vectorizer = TfidfVectorizer(max_features=5000)\n",
    "X_train_tfidf = tfidf_vectorizer.fit_transform(X_train)\n",
    "X_test_tfidf = tfidf_vectorizer.transform(X_test)\n",
    "print(\"Fitur TF-IDF berhasil dibuat.\")"
   ]
  },
  {
   "cell_type": "code",
   "execution_count": 6,
   "id": "aae4bfd0",
   "metadata": {},
   "outputs": [
    {
     "name": "stdout",
     "output_type": "stream",
     "text": [
      "\n",
      "--- PELATIHAN DAN EVALUASI MODEL LOGISTIC REGRESSION ---\n",
      "Model Logistic Regression berhasil dilatih dan dievaluasi.\n"
     ]
    }
   ],
   "source": [
    "# --- PELATIHAN DAN EVALUASI MODEL LOGISTIC REGRESSION ---\n",
    "print(\"\\n--- PELATIHAN DAN EVALUASI MODEL LOGISTIC REGRESSION ---\")\n",
    "logreg_model = LogisticRegression(random_state=42, max_iter=1000, class_weight='balanced')\n",
    "logreg_model.fit(X_train_tfidf, y_train)\n",
    "y_pred_logreg = logreg_model.predict(X_test_tfidf)\n",
    "print(\"Model Logistic Regression berhasil dilatih dan dievaluasi.\")"
   ]
  },
  {
   "cell_type": "markdown",
   "id": "cb6d2ead",
   "metadata": {},
   "source": [
    "# TAHAP UNTUK MODEL INDOBERT"
   ]
  },
  {
   "cell_type": "code",
   "execution_count": 7,
   "id": "a7d01b09",
   "metadata": {},
   "outputs": [
    {
     "name": "stdout",
     "output_type": "stream",
     "text": [
      "\n",
      "\n",
      "--- MEMULAI TAHAP UNTUK MODEL INDOBERT ---\n",
      "\n",
      "Memuat tokenizer IndoBERT...\n",
      "Melakukan tokenisasi data untuk BERT...\n"
     ]
    },
    {
     "name": "stderr",
     "output_type": "stream",
     "text": [
      "Map: 100%|██████████| 120/120 [00:00<00:00, 1713.27 examples/s]\n",
      "Map: 100%|██████████| 30/30 [00:00<00:00, 1823.93 examples/s]"
     ]
    },
    {
     "name": "stdout",
     "output_type": "stream",
     "text": [
      "\n",
      "Memuat model IndoBERT untuk klasifikasi...\n"
     ]
    },
    {
     "name": "stderr",
     "output_type": "stream",
     "text": [
      "\n",
      "Some weights of BertForSequenceClassification were not initialized from the model checkpoint at indobenchmark/indobert-base-p1 and are newly initialized: ['classifier.bias', 'classifier.weight']\n",
      "You should probably TRAIN this model on a down-stream task to be able to use it for predictions and inference.\n"
     ]
    },
    {
     "name": "stdout",
     "output_type": "stream",
     "text": [
      "\n",
      "Memulai proses fine-tuning IndoBERT...\n"
     ]
    },
    {
     "name": "stderr",
     "output_type": "stream",
     "text": [
      "C:\\Users\\Wede\\AppData\\Roaming\\Python\\Python313\\site-packages\\torch\\utils\\data\\dataloader.py:666: UserWarning: 'pin_memory' argument is set as true but no accelerator is found, then device pinned memory won't be used.\n",
      "  warnings.warn(warn_msg)\n"
     ]
    },
    {
     "data": {
      "text/html": [
       "\n",
       "    <div>\n",
       "      \n",
       "      <progress value='45' max='45' style='width:300px; height:20px; vertical-align: middle;'></progress>\n",
       "      [45/45 14:14, Epoch 3/3]\n",
       "    </div>\n",
       "    <table border=\"1\" class=\"dataframe\">\n",
       "  <thead>\n",
       " <tr style=\"text-align: left;\">\n",
       "      <th>Step</th>\n",
       "      <th>Training Loss</th>\n",
       "      <th>Validation Loss</th>\n",
       "    </tr>\n",
       "  </thead>\n",
       "  <tbody>\n",
       "    <tr>\n",
       "      <td>10</td>\n",
       "      <td>0.926800</td>\n",
       "      <td>0.885932</td>\n",
       "    </tr>\n",
       "    <tr>\n",
       "      <td>20</td>\n",
       "      <td>0.920900</td>\n",
       "      <td>0.902864</td>\n",
       "    </tr>\n",
       "    <tr>\n",
       "      <td>30</td>\n",
       "      <td>0.661900</td>\n",
       "      <td>0.580140</td>\n",
       "    </tr>\n",
       "    <tr>\n",
       "      <td>40</td>\n",
       "      <td>0.378800</td>\n",
       "      <td>0.570381</td>\n",
       "    </tr>\n",
       "  </tbody>\n",
       "</table><p>"
      ],
      "text/plain": [
       "<IPython.core.display.HTML object>"
      ]
     },
     "metadata": {},
     "output_type": "display_data"
    },
    {
     "name": "stderr",
     "output_type": "stream",
     "text": [
      "C:\\Users\\Wede\\AppData\\Roaming\\Python\\Python313\\site-packages\\torch\\utils\\data\\dataloader.py:666: UserWarning: 'pin_memory' argument is set as true but no accelerator is found, then device pinned memory won't be used.\n",
      "  warnings.warn(warn_msg)\n",
      "C:\\Users\\Wede\\AppData\\Roaming\\Python\\Python313\\site-packages\\torch\\utils\\data\\dataloader.py:666: UserWarning: 'pin_memory' argument is set as true but no accelerator is found, then device pinned memory won't be used.\n",
      "  warnings.warn(warn_msg)\n",
      "C:\\Users\\Wede\\AppData\\Roaming\\Python\\Python313\\site-packages\\torch\\utils\\data\\dataloader.py:666: UserWarning: 'pin_memory' argument is set as true but no accelerator is found, then device pinned memory won't be used.\n",
      "  warnings.warn(warn_msg)\n"
     ]
    },
    {
     "name": "stdout",
     "output_type": "stream",
     "text": [
      "Pelatihan IndoBERT selesai.\n",
      "Melakukan prediksi dengan model IndoBERT...\n"
     ]
    },
    {
     "name": "stderr",
     "output_type": "stream",
     "text": [
      "C:\\Users\\Wede\\AppData\\Roaming\\Python\\Python313\\site-packages\\torch\\utils\\data\\dataloader.py:666: UserWarning: 'pin_memory' argument is set as true but no accelerator is found, then device pinned memory won't be used.\n",
      "  warnings.warn(warn_msg)\n"
     ]
    },
    {
     "data": {
      "text/html": [],
      "text/plain": [
       "<IPython.core.display.HTML object>"
      ]
     },
     "metadata": {},
     "output_type": "display_data"
    }
   ],
   "source": [
    "print(\"\\n\\n--- MEMULAI TAHAP UNTUK MODEL INDOBERT ---\")\n",
    "\n",
    "# --- FINE-TUNING DAN EVALUASI INDOBERT ---\n",
    "# Siapkan data untuk Hugging Face\n",
    "train_df_bert = pd.DataFrame({'Teks_Stemmed': X_train, 'label': y_train.map(label_map)})\n",
    "test_df_bert = pd.DataFrame({'Teks_Stemmed': X_test, 'label': y_test.map(label_map)})\n",
    "train_dataset = Dataset.from_pandas(train_df_bert)\n",
    "test_dataset = Dataset.from_pandas(test_df_bert)\n",
    "\n",
    "# Tokenisasi\n",
    "print(\"\\nMemuat tokenizer IndoBERT...\")\n",
    "model_name = \"indobenchmark/indobert-base-p1\"\n",
    "tokenizer = AutoTokenizer.from_pretrained(model_name)\n",
    "\n",
    "def tokenize_function(examples):\n",
    "    return tokenizer(examples['Teks_Stemmed'], padding=\"max_length\", truncation=True, max_length=256)\n",
    "\n",
    "print(\"Melakukan tokenisasi data untuk BERT...\")\n",
    "train_dataset = train_dataset.map(tokenize_function, batched=True)\n",
    "test_dataset = test_dataset.map(tokenize_function, batched=True)\n",
    "\n",
    "# Memuat model\n",
    "print(\"\\nMemuat model IndoBERT untuk klasifikasi...\")\n",
    "model = AutoModelForSequenceClassification.from_pretrained(model_name, num_labels=len(labels))\n",
    "\n",
    "# Argumen Pelatihan\n",
    "training_args = TrainingArguments(\n",
    "    output_dir='./results',\n",
    "    num_train_epochs=3,\n",
    "    per_device_train_batch_size=8,\n",
    "    per_device_eval_batch_size=8,\n",
    "    warmup_steps=10,\n",
    "    weight_decay=0.01,\n",
    "    logging_dir='./logs',\n",
    "    logging_steps=10,\n",
    "    eval_strategy=\"steps\",\n",
    "    eval_steps=10,\n",
    "    save_strategy=\"steps\",\n",
    "    save_steps=10,\n",
    "    load_best_model_at_end=True\n",
    ")\n",
    "\n",
    "# Inisialisasi Trainer\n",
    "trainer = Trainer(\n",
    "    model=model,\n",
    "    args=training_args,\n",
    "    train_dataset=train_dataset,\n",
    "    eval_dataset=test_dataset\n",
    ")\n",
    "\n",
    "print(\"\\nMemulai proses fine-tuning IndoBERT...\")\n",
    "trainer.train()\n",
    "print(\"Pelatihan IndoBERT selesai.\")\n",
    "\n",
    "# Prediksi dengan model BERT\n",
    "print(\"Melakukan prediksi dengan model IndoBERT...\")\n",
    "predictions_bert = trainer.predict(test_dataset)\n",
    "y_pred_indices_bert = np.argmax(predictions_bert.predictions, axis=1)\n",
    "y_pred_bert = [labels[i] for i in y_pred_indices_bert]"
   ]
  },
  {
   "cell_type": "markdown",
   "id": "05700348",
   "metadata": {},
   "source": [
    "# TAHAP PERBANDINGAN PERFORMA MODEL"
   ]
  },
  {
   "cell_type": "code",
   "execution_count": 9,
   "id": "5c5321e2",
   "metadata": {},
   "outputs": [
    {
     "name": "stdout",
     "output_type": "stream",
     "text": [
      "\n",
      "\n",
      "--- TAHAP PERBANDINGAN PERFORMA MODEL ---\n",
      "\n",
      "--- 1. Hasil Evaluasi Model TF-IDF dan Logistic Regression ---\n",
      "Akurasi Model: 73.33%\n",
      "\n",
      "Laporan Klasifikasi:\n",
      "              precision    recall  f1-score   support\n",
      "\n",
      "     negatif       0.75      0.60      0.67        10\n",
      "      netral       0.00      0.00      0.00         3\n",
      "     positif       0.73      0.94      0.82        17\n",
      "\n",
      "    accuracy                           0.73        30\n",
      "   macro avg       0.49      0.51      0.50        30\n",
      "weighted avg       0.66      0.73      0.69        30\n",
      "\n",
      "\n",
      "--- 2. Hasil Evaluasi Model IndoBERT ---\n",
      "Akurasi Model: 76.67%\n",
      "\n",
      "Laporan Klasifikasi:\n",
      "              precision    recall  f1-score   support\n",
      "\n",
      "     negatif       0.70      0.70      0.70        10\n",
      "      netral       0.00      0.00      0.00         3\n",
      "     positif       0.80      0.94      0.86        17\n",
      "\n",
      "    accuracy                           0.77        30\n",
      "   macro avg       0.50      0.55      0.52        30\n",
      "weighted avg       0.69      0.77      0.72        30\n",
      "\n",
      "\n",
      "Membuat visualisasi perbandingan Confusion Matrix...\n"
     ]
    },
    {
     "data": {
      "image/png": "[encoded data removed]",
      "text/plain": [
       "<Figure size 1600x600 with 4 Axes>"
      ]
     },
     "metadata": {},
     "output_type": "display_data"
    },
    {
     "name": "stdout",
     "output_type": "stream",
     "text": [
      "\n",
      "✅ Seluruh proses proyek selesai.\n"
     ]
    }
   ],
   "source": [
    "print(\"\\n\\n--- TAHAP PERBANDINGAN PERFORMA MODEL ---\")\n",
    "\n",
    "# --- Hasil Model TF-IDF dan Logistic Regression ---\n",
    "print(\"\\n--- 1. Hasil Evaluasi Model TF-IDF dan Logistic Regression ---\")\n",
    "accuracy_logreg = accuracy_score(y_test, y_pred_logreg)\n",
    "print(f\"Akurasi Model: {accuracy_logreg:.2%}\")\n",
    "print(\"\\nLaporan Klasifikasi:\")\n",
    "print(classification_report(y_test, y_pred_logreg, zero_division=0))\n",
    "\n",
    "# --- Hasil Model IndoBERT ---\n",
    "print(\"\\n--- 2. Hasil Evaluasi Model IndoBERT ---\")\n",
    "accuracy_bert = accuracy_score(y_test, y_pred_bert)\n",
    "print(f\"Akurasi Model: {accuracy_bert:.2%}\")\n",
    "print(\"\\nLaporan Klasifikasi:\")\n",
    "print(classification_report(y_test, y_pred_bert, zero_division=0))\n",
    "\n",
    "\n",
    "# --- Visualisasi Confusion Matrix Berdampingan ---\n",
    "print(\"\\nMembuat visualisasi perbandingan Confusion Matrix...\")\n",
    "fig, axes = plt.subplots(1, 2, figsize=(16, 6))\n",
    "fig.suptitle('Perbandingan Confusion Matrix', fontsize=20)\n",
    "\n",
    "# Confusion Matrix untuk Logistic Regression\n",
    "cm_logreg = confusion_matrix(y_test, y_pred_logreg, labels=labels)\n",
    "sns.heatmap(cm_logreg, annot=True, fmt='d', cmap='Blues', xticklabels=labels, yticklabels=labels, ax=axes[0])\n",
    "axes[0].set_title('TF-IDF + Logistic Regression')\n",
    "axes[0].set_xlabel('Prediksi')\n",
    "axes[0].set_ylabel('Aktual')\n",
    "\n",
    "# Confusion Matrix untuk IndoBERT\n",
    "cm_bert = confusion_matrix(y_test, y_pred_bert, labels=labels)\n",
    "sns.heatmap(cm_bert, annot=True, fmt='d', cmap='Oranges', xticklabels=labels, yticklabels=labels, ax=axes[1])\n",
    "axes[1].set_title('IndoBERT')\n",
    "axes[1].set_xlabel('Prediksi')\n",
    "axes[1].set_ylabel('Aktual')\n",
    "\n",
    "plt.tight_layout(rect=[0, 0, 1, 0.96])\n",
    "plt.show()\n",
    "\n",
    "print(\"\\n✅ Seluruh proses proyek selesai.\")"
   ]
  }
 ],
 "metadata": {
  "kernelspec": {
   "display_name": "Python 3",
   "language": "python",
   "name": "python3"
  },
  "language_info": {
   "codemirror_mode": {
    "name": "ipython",
    "version": 3
   },
   "file_extension": ".py",
   "mimetype": "text/x-python",
   "name": "python",
   "nbconvert_exporter": "python",
   "pygments_lexer": "ipython3",
   "version": "3.13.3"
  }
 },
 "nbformat": 4,
 "nbformat_minor": 5
}
