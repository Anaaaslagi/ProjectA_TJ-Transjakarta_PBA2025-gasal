{
 "cells": [
  {
   "cell_type": "code",
   "execution_count": 1,
   "id": "67fe1239",
   "metadata": {},
   "outputs": [
    {
     "name": "stdout",
     "output_type": "stream",
     "text": [
      "Defaulting to user installation because normal site-packages is not writeable\n",
      "Requirement already satisfied: pandas in c:\\users\\wede\\appdata\\roaming\\python\\python313\\site-packages (2.3.3)\n",
      "Requirement already satisfied: torch in c:\\users\\wede\\appdata\\roaming\\python\\python313\\site-packages (2.8.0)\n",
      "Requirement already satisfied: transformers in c:\\users\\wede\\appdata\\roaming\\python\\python313\\site-packages (4.56.0)\n",
      "Requirement already satisfied: scikit-learn in c:\\users\\wede\\appdata\\roaming\\python\\python313\\site-packages (1.7.1)\n",
      "Requirement already satisfied: datasets in c:\\users\\wede\\appdata\\roaming\\python\\python313\\site-packages (4.0.0)\n",
      "Requirement already satisfied: seaborn in c:\\users\\wede\\appdata\\roaming\\python\\python313\\site-packages (0.13.2)\n",
      "Requirement already satisfied: matplotlib in c:\\users\\wede\\appdata\\roaming\\python\\python313\\site-packages (3.10.3)\n",
      "Requirement already satisfied: accelerate in c:\\users\\wede\\appdata\\roaming\\python\\python313\\site-packages (1.10.1)\n",
      "Requirement already satisfied: openpyxl in c:\\users\\wede\\appdata\\roaming\\python\\python313\\site-packages (3.1.5)\n",
      "Requirement already satisfied: numpy>=1.26.0 in c:\\users\\wede\\appdata\\roaming\\python\\python313\\site-packages (from pandas) (2.3.1)\n",
      "Requirement already satisfied: python-dateutil>=2.8.2 in c:\\users\\wede\\appdata\\roaming\\python\\python313\\site-packages (from pandas) (2.9.0.post0)\n",
      "Requirement already satisfied: pytz>=2020.1 in c:\\users\\wede\\appdata\\roaming\\python\\python313\\site-packages (from pandas) (2025.2)\n",
      "Requirement already satisfied: tzdata>=2022.7 in c:\\users\\wede\\appdata\\roaming\\python\\python313\\site-packages (from pandas) (2025.2)\n",
      "Requirement already satisfied: filelock in c:\\users\\wede\\appdata\\roaming\\python\\python313\\site-packages (from torch) (3.19.1)\n",
      "Requirement already satisfied: typing-extensions>=4.10.0 in c:\\users\\wede\\appdata\\roaming\\python\\python313\\site-packages (from torch) (4.14.1)\n",
      "Requirement already satisfied: sympy>=1.13.3 in c:\\users\\wede\\appdata\\roaming\\python\\python313\\site-packages (from torch) (1.14.0)\n",
      "Requirement already satisfied: networkx in c:\\users\\wede\\appdata\\roaming\\python\\python313\\site-packages (from torch) (3.5)\n",
      "Requirement already satisfied: jinja2 in c:\\users\\wede\\appdata\\roaming\\python\\python313\\site-packages (from torch) (3.1.6)\n",
      "Requirement already satisfied: fsspec in c:\\users\\wede\\appdata\\roaming\\python\\python313\\site-packages (from torch) (2025.3.0)\n",
      "Requirement already satisfied: setuptools in c:\\users\\wede\\appdata\\roaming\\python\\python313\\site-packages (from torch) (80.9.0)\n",
      "Requirement already satisfied: huggingface-hub<1.0,>=0.34.0 in c:\\users\\wede\\appdata\\roaming\\python\\python313\\site-packages (from transformers) (0.34.4)\n",
      "Requirement already satisfied: packaging>=20.0 in c:\\users\\wede\\appdata\\roaming\\python\\python313\\site-packages (from transformers) (25.0)\n",
      "Requirement already satisfied: pyyaml>=5.1 in c:\\users\\wede\\appdata\\roaming\\python\\python313\\site-packages (from transformers) (6.0.2)\n",
      "Requirement already satisfied: regex!=2019.12.17 in c:\\users\\wede\\appdata\\roaming\\python\\python313\\site-packages (from transformers) (2025.7.34)\n",
      "Requirement already satisfied: requests in c:\\users\\wede\\appdata\\roaming\\python\\python313\\site-packages (from transformers) (2.32.4)\n",
      "Requirement already satisfied: tokenizers<=0.23.0,>=0.22.0 in c:\\users\\wede\\appdata\\roaming\\python\\python313\\site-packages (from transformers) (0.22.0)\n",
      "Requirement already satisfied: safetensors>=0.4.3 in c:\\users\\wede\\appdata\\roaming\\python\\python313\\site-packages (from transformers) (0.6.2)\n",
      "Requirement already satisfied: tqdm>=4.27 in c:\\users\\wede\\appdata\\roaming\\python\\python313\\site-packages (from transformers) (4.67.1)\n",
      "Requirement already satisfied: scipy>=1.8.0 in c:\\users\\wede\\appdata\\roaming\\python\\python313\\site-packages (from scikit-learn) (1.16.1)\n",
      "Requirement already satisfied: joblib>=1.2.0 in c:\\users\\wede\\appdata\\roaming\\python\\python313\\site-packages (from scikit-learn) (1.5.1)\n",
      "Requirement already satisfied: threadpoolctl>=3.1.0 in c:\\users\\wede\\appdata\\roaming\\python\\python313\\site-packages (from scikit-learn) (3.6.0)\n",
      "Requirement already satisfied: pyarrow>=15.0.0 in c:\\users\\wede\\appdata\\roaming\\python\\python313\\site-packages (from datasets) (21.0.0)\n",
      "Requirement already satisfied: dill<0.3.9,>=0.3.0 in c:\\users\\wede\\appdata\\roaming\\python\\python313\\site-packages (from datasets) (0.3.8)\n",
      "Requirement already satisfied: xxhash in c:\\users\\wede\\appdata\\roaming\\python\\python313\\site-packages (from datasets) (3.5.0)\n",
      "Requirement already satisfied: multiprocess<0.70.17 in c:\\users\\wede\\appdata\\roaming\\python\\python313\\site-packages (from datasets) (0.70.16)\n",
      "Requirement already satisfied: aiohttp!=4.0.0a0,!=4.0.0a1 in c:\\users\\wede\\appdata\\roaming\\python\\python313\\site-packages (from fsspec[http]<=2025.3.0,>=2023.1.0->datasets) (3.12.15)\n",
      "Requirement already satisfied: contourpy>=1.0.1 in c:\\users\\wede\\appdata\\roaming\\python\\python313\\site-packages (from matplotlib) (1.3.2)\n",
      "Requirement already satisfied: cycler>=0.10 in c:\\users\\wede\\appdata\\roaming\\python\\python313\\site-packages (from matplotlib) (0.12.1)\n",
      "Requirement already satisfied: fonttools>=4.22.0 in c:\\users\\wede\\appdata\\roaming\\python\\python313\\site-packages (from matplotlib) (4.58.4)\n",
      "Requirement already satisfied: kiwisolver>=1.3.1 in c:\\users\\wede\\appdata\\roaming\\python\\python313\\site-packages (from matplotlib) (1.4.8)\n",
      "Requirement already satisfied: pillow>=8 in c:\\users\\wede\\appdata\\roaming\\python\\python313\\site-packages (from matplotlib) (11.2.1)\n",
      "Requirement already satisfied: pyparsing>=2.3.1 in c:\\users\\wede\\appdata\\roaming\\python\\python313\\site-packages (from matplotlib) (3.2.3)\n",
      "Requirement already satisfied: psutil in c:\\users\\wede\\appdata\\roaming\\python\\python313\\site-packages (from accelerate) (7.0.0)\n",
      "Requirement already satisfied: et-xmlfile in c:\\users\\wede\\appdata\\roaming\\python\\python313\\site-packages (from openpyxl) (2.0.0)\n",
      "Requirement already satisfied: aiohappyeyeballs>=2.5.0 in c:\\users\\wede\\appdata\\roaming\\python\\python313\\site-packages (from aiohttp!=4.0.0a0,!=4.0.0a1->fsspec[http]<=2025.3.0,>=2023.1.0->datasets) (2.6.1)\n",
      "Requirement already satisfied: aiosignal>=1.4.0 in c:\\users\\wede\\appdata\\roaming\\python\\python313\\site-packages (from aiohttp!=4.0.0a0,!=4.0.0a1->fsspec[http]<=2025.3.0,>=2023.1.0->datasets) (1.4.0)\n",
      "Requirement already satisfied: attrs>=17.3.0 in c:\\users\\wede\\appdata\\roaming\\python\\python313\\site-packages (from aiohttp!=4.0.0a0,!=4.0.0a1->fsspec[http]<=2025.3.0,>=2023.1.0->datasets) (25.3.0)\n",
      "Requirement already satisfied: frozenlist>=1.1.1 in c:\\users\\wede\\appdata\\roaming\\python\\python313\\site-packages (from aiohttp!=4.0.0a0,!=4.0.0a1->fsspec[http]<=2025.3.0,>=2023.1.0->datasets) (1.7.0)\n",
      "Requirement already satisfied: multidict<7.0,>=4.5 in c:\\users\\wede\\appdata\\roaming\\python\\python313\\site-packages (from aiohttp!=4.0.0a0,!=4.0.0a1->fsspec[http]<=2025.3.0,>=2023.1.0->datasets) (6.6.4)\n",
      "Requirement already satisfied: propcache>=0.2.0 in c:\\users\\wede\\appdata\\roaming\\python\\python313\\site-packages (from aiohttp!=4.0.0a0,!=4.0.0a1->fsspec[http]<=2025.3.0,>=2023.1.0->datasets) (0.3.2)\n",
      "Requirement already satisfied: yarl<2.0,>=1.17.0 in c:\\users\\wede\\appdata\\roaming\\python\\python313\\site-packages (from aiohttp!=4.0.0a0,!=4.0.0a1->fsspec[http]<=2025.3.0,>=2023.1.0->datasets) (1.20.1)\n",
      "Requirement already satisfied: idna>=2.0 in c:\\users\\wede\\appdata\\roaming\\python\\python313\\site-packages (from yarl<2.0,>=1.17.0->aiohttp!=4.0.0a0,!=4.0.0a1->fsspec[http]<=2025.3.0,>=2023.1.0->datasets) (3.10)\n",
      "Requirement already satisfied: six>=1.5 in c:\\users\\wede\\appdata\\roaming\\python\\python313\\site-packages (from python-dateutil>=2.8.2->pandas) (1.17.0)\n",
      "Requirement already satisfied: charset_normalizer<4,>=2 in c:\\users\\wede\\appdata\\roaming\\python\\python313\\site-packages (from requests->transformers) (3.4.2)\n",
      "Requirement already satisfied: urllib3<3,>=1.21.1 in c:\\users\\wede\\appdata\\roaming\\python\\python313\\site-packages (from requests->transformers) (2.5.0)\n",
      "Requirement already satisfied: certifi>=2017.4.17 in c:\\users\\wede\\appdata\\roaming\\python\\python313\\site-packages (from requests->transformers) (2025.8.3)\n",
      "Requirement already satisfied: mpmath<1.4,>=1.1.0 in c:\\users\\wede\\appdata\\roaming\\python\\python313\\site-packages (from sympy>=1.13.3->torch) (1.3.0)\n",
      "Requirement already satisfied: colorama in c:\\users\\wede\\appdata\\roaming\\python\\python313\\site-packages (from tqdm>=4.27->transformers) (0.4.6)\n",
      "Requirement already satisfied: MarkupSafe>=2.0 in c:\\users\\wede\\appdata\\roaming\\python\\python313\\site-packages (from jinja2->torch) (3.0.2)\n"
     ]
    }
   ],
   "source": [
    "!pip install pandas torch transformers scikit-learn datasets seaborn matplotlib accelerate openpyxl"
   ]
  },
  {
   "cell_type": "code",
   "execution_count": 3,
   "id": "4cdaa337",
   "metadata": {},
   "outputs": [],
   "source": [
    "import pandas as pd\n",
    "from sklearn.model_selection import train_test_split\n",
    "from sklearn.feature_extraction.text import TfidfVectorizer\n",
    "from sklearn.linear_model import LogisticRegression\n",
    "from sklearn.metrics import classification_report, accuracy_score, confusion_matrix\n",
    "import seaborn as sns\n",
    "import matplotlib.pyplot as plt\n",
    "import torch\n",
    "from transformers import AutoTokenizer, AutoModelForSequenceClassification, Trainer, TrainingArguments\n",
    "from datasets import Dataset\n",
    "import numpy as np"
   ]
  },
  {
   "cell_type": "code",
   "execution_count": 4,
   "id": "4d2394e3",
   "metadata": {},
   "outputs": [
    {
     "name": "stdout",
     "output_type": "stream",
     "text": [
      "--- MEMUAT DATA YANG SUDAH DI-AUGMENTASI ---\n",
      "File '../Data/hasil_preprocessed_augmented.csv' berhasil dibaca. Jumlah data: 164 baris.\n"
     ]
    }
   ],
   "source": [
    "# --- MEMUAT DATA HASIL AUGMENTASI DAN PREPROCESSING ---\n",
    "print(\"--- MEMUAT DATA YANG SUDAH DI-AUGMENTASI ---\")\n",
    "input_filename = '../Data/hasil_preprocessed_augmented.csv'\n",
    "try:\n",
    "    df = pd.read_csv(input_filename)\n",
    "    df.dropna(subset=['Teks_Stemmed'], inplace=True)\n",
    "    df = df[df['Teks_Stemmed'].str.strip() != '']\n",
    "    print(f\"File '{input_filename}' berhasil dibaca. Jumlah data: {len(df)} baris.\")\n",
    "except FileNotFoundError:\n",
    "    print(f\"Error: File '{input_filename}' tidak ditemukan.\")\n",
    "    exit()"
   ]
  },
  {
   "cell_type": "code",
   "execution_count": 5,
   "id": "a64035a3",
   "metadata": {},
   "outputs": [
    {
     "name": "stdout",
     "output_type": "stream",
     "text": [
      "\n",
      "--- PERSIAPAN DAN PEMBAGIAN DATA ---\n",
      "Data dibagi menjadi: 131 data latih dan 33 data uji.\n",
      "\n",
      "Distribusi Sentimen pada Data Uji:\n",
      "Sentimen\n",
      "positif    17\n",
      "negatif    10\n",
      "netral      6\n",
      "Name: count, dtype: int64\n"
     ]
    }
   ],
   "source": [
    "# --- PERSIAPAN DAN PEMBAGIAN DATA ---\n",
    "print(\"\\n--- PERSIAPAN DAN PEMBAGIAN DATA ---\")\n",
    "labels = sorted(df['Sentimen'].unique())\n",
    "label_map = {label: i for i, label in enumerate(labels)}\n",
    "df['label'] = df['Sentimen'].map(label_map)\n",
    "\n",
    "X = df['Teks_Stemmed']\n",
    "y = df['Sentimen']\n",
    "X_train, X_test, y_train, y_test = train_test_split(X, y, test_size=0.2, random_state=42, stratify=y)\n",
    "print(f\"Data dibagi menjadi: {len(X_train)} data latih dan {len(X_test)} data uji.\")\n",
    "print(\"\\nDistribusi Sentimen pada Data Uji:\")\n",
    "print(y_test.value_counts())"
   ]
  },
  {
   "cell_type": "code",
   "execution_count": 6,
   "id": "7a8d78f4",
   "metadata": {},
   "outputs": [
    {
     "name": "stdout",
     "output_type": "stream",
     "text": [
      "\n",
      "\n",
      "--- MEMULAI TAHAP MODEL TF-IDF DAN LOGISTIC REGRESSION (DATA AUGMENTASI) ---\n",
      "Model Logistic Regression berhasil dilatih ulang dan dievaluasi.\n"
     ]
    }
   ],
   "source": [
    "# ==============================================================================\n",
    "# --- TAHAP MODEL KLASIK TF-IDF DAN LOGISTIC REGRESSION ---\n",
    "# ==============================================================================\n",
    "print(\"\\n\\n--- MEMULAI TAHAP MODEL TF-IDF DAN LOGISTIC REGRESSION (DATA AUGMENTASI) ---\")\n",
    "tfidf_vectorizer = TfidfVectorizer(max_features=5000)\n",
    "X_train_tfidf = tfidf_vectorizer.fit_transform(X_train)\n",
    "X_test_tfidf = tfidf_vectorizer.transform(X_test)\n",
    "logreg_model = LogisticRegression(random_state=42, max_iter=1000, class_weight='balanced')\n",
    "logreg_model.fit(X_train_tfidf, y_train)\n",
    "y_pred_logreg = logreg_model.predict(X_test_tfidf)\n",
    "print(\"Model Logistic Regression berhasil dilatih ulang dan dievaluasi.\")"
   ]
  },
  {
   "cell_type": "code",
   "execution_count": 7,
   "id": "653d77c9",
   "metadata": {},
   "outputs": [
    {
     "name": "stdout",
     "output_type": "stream",
     "text": [
      "\n",
      "\n",
      "--- MEMULAI TAHAP MODEL INDOBERT ---\n"
     ]
    }
   ],
   "source": [
    "# ==============================================================================\n",
    "# --- TAHAP MODEL INDOBERT ---\n",
    "# ==============================================================================\n",
    "print(\"\\n\\n--- MEMULAI TAHAP MODEL INDOBERT ---\")\n",
    "train_df_bert = pd.DataFrame({'Teks_Stemmed': X_train, 'label': y_train.map(label_map)})\n",
    "test_df_bert = pd.DataFrame({'Teks_Stemmed': X_test, 'label': y_test.map(label_map)})\n",
    "train_dataset = Dataset.from_pandas(train_df_bert)\n",
    "test_dataset = Dataset.from_pandas(test_df_bert)\n",
    "\n",
    "model_name = \"indobenchmark/indobert-base-p1\"\n",
    "tokenizer = AutoTokenizer.from_pretrained(model_name)"
   ]
  },
  {
   "cell_type": "code",
   "execution_count": 8,
   "id": "2c42dfcc",
   "metadata": {},
   "outputs": [
    {
     "data": {
      "application/vnd.jupyter.widget-view+json": {
       "model_id": "9725ed58f21745b4993de50cbf721500",
       "version_major": 2,
       "version_minor": 0
      },
      "text/plain": [
       "Map:   0%|          | 0/131 [00:00<?, ? examples/s]"
      ]
     },
     "metadata": {},
     "output_type": "display_data"
    },
    {
     "data": {
      "application/vnd.jupyter.widget-view+json": {
       "model_id": "f55c444fbc2d488faa0f9df7f6bb88cc",
       "version_major": 2,
       "version_minor": 0
      },
      "text/plain": [
       "Map:   0%|          | 0/33 [00:00<?, ? examples/s]"
      ]
     },
     "metadata": {},
     "output_type": "display_data"
    },
    {
     "name": "stderr",
     "output_type": "stream",
     "text": [
      "Some weights of BertForSequenceClassification were not initialized from the model checkpoint at indobenchmark/indobert-base-p1 and are newly initialized: ['classifier.bias', 'classifier.weight']\n",
      "You should probably TRAIN this model on a down-stream task to be able to use it for predictions and inference.\n"
     ]
    },
    {
     "name": "stdout",
     "output_type": "stream",
     "text": [
      "\n",
      "Memulai proses fine-tuning IndoBERT dengan data augmentasi...\n"
     ]
    },
    {
     "name": "stderr",
     "output_type": "stream",
     "text": [
      "C:\\Users\\Wede\\AppData\\Roaming\\Python\\Python313\\site-packages\\torch\\utils\\data\\dataloader.py:666: UserWarning: 'pin_memory' argument is set as true but no accelerator is found, then device pinned memory won't be used.\n",
      "  warnings.warn(warn_msg)\n"
     ]
    },
    {
     "data": {
      "text/html": [
       "\n",
       "    <div>\n",
       "      \n",
       "      <progress value='51' max='51' style='width:300px; height:20px; vertical-align: middle;'></progress>\n",
       "      [51/51 14:34, Epoch 3/3]\n",
       "    </div>\n",
       "    <table border=\"1\" class=\"dataframe\">\n",
       "  <thead>\n",
       " <tr style=\"text-align: left;\">\n",
       "      <th>Step</th>\n",
       "      <th>Training Loss</th>\n",
       "      <th>Validation Loss</th>\n",
       "    </tr>\n",
       "  </thead>\n",
       "  <tbody>\n",
       "    <tr>\n",
       "      <td>10</td>\n",
       "      <td>1.034300</td>\n",
       "      <td>1.056681</td>\n",
       "    </tr>\n",
       "    <tr>\n",
       "      <td>20</td>\n",
       "      <td>0.662300</td>\n",
       "      <td>0.912057</td>\n",
       "    </tr>\n",
       "    <tr>\n",
       "      <td>30</td>\n",
       "      <td>0.663000</td>\n",
       "      <td>1.141223</td>\n",
       "    </tr>\n",
       "    <tr>\n",
       "      <td>40</td>\n",
       "      <td>0.612000</td>\n",
       "      <td>1.045969</td>\n",
       "    </tr>\n",
       "    <tr>\n",
       "      <td>50</td>\n",
       "      <td>0.561000</td>\n",
       "      <td>0.925351</td>\n",
       "    </tr>\n",
       "  </tbody>\n",
       "</table><p>"
      ],
      "text/plain": [
       "<IPython.core.display.HTML object>"
      ]
     },
     "metadata": {},
     "output_type": "display_data"
    },
    {
     "name": "stderr",
     "output_type": "stream",
     "text": [
      "C:\\Users\\Wede\\AppData\\Roaming\\Python\\Python313\\site-packages\\torch\\utils\\data\\dataloader.py:666: UserWarning: 'pin_memory' argument is set as true but no accelerator is found, then device pinned memory won't be used.\n",
      "  warnings.warn(warn_msg)\n",
      "C:\\Users\\Wede\\AppData\\Roaming\\Python\\Python313\\site-packages\\torch\\utils\\data\\dataloader.py:666: UserWarning: 'pin_memory' argument is set as true but no accelerator is found, then device pinned memory won't be used.\n",
      "  warnings.warn(warn_msg)\n",
      "C:\\Users\\Wede\\AppData\\Roaming\\Python\\Python313\\site-packages\\torch\\utils\\data\\dataloader.py:666: UserWarning: 'pin_memory' argument is set as true but no accelerator is found, then device pinned memory won't be used.\n",
      "  warnings.warn(warn_msg)\n",
      "C:\\Users\\Wede\\AppData\\Roaming\\Python\\Python313\\site-packages\\torch\\utils\\data\\dataloader.py:666: UserWarning: 'pin_memory' argument is set as true but no accelerator is found, then device pinned memory won't be used.\n",
      "  warnings.warn(warn_msg)\n"
     ]
    },
    {
     "name": "stdout",
     "output_type": "stream",
     "text": [
      "Pelatihan IndoBERT selesai.\n"
     ]
    },
    {
     "name": "stderr",
     "output_type": "stream",
     "text": [
      "C:\\Users\\Wede\\AppData\\Roaming\\Python\\Python313\\site-packages\\torch\\utils\\data\\dataloader.py:666: UserWarning: 'pin_memory' argument is set as true but no accelerator is found, then device pinned memory won't be used.\n",
      "  warnings.warn(warn_msg)\n"
     ]
    },
    {
     "data": {
      "text/html": [],
      "text/plain": [
       "<IPython.core.display.HTML object>"
      ]
     },
     "metadata": {},
     "output_type": "display_data"
    }
   ],
   "source": [
    "def tokenize_function(examples):\n",
    "    return tokenizer(examples['Teks_Stemmed'], padding=\"max_length\", truncation=True, max_length=256)\n",
    "\n",
    "train_dataset = train_dataset.map(tokenize_function, batched=True)\n",
    "test_dataset = test_dataset.map(tokenize_function, batched=True)\n",
    "\n",
    "model = AutoModelForSequenceClassification.from_pretrained(model_name, num_labels=len(labels))\n",
    "\n",
    "training_args = TrainingArguments(\n",
    "    output_dir='./results_augmented',\n",
    "    num_train_epochs=3,\n",
    "    per_device_train_batch_size=8,\n",
    "    per_device_eval_batch_size=8,\n",
    "    warmup_steps=10,\n",
    "    weight_decay=0.01,\n",
    "    logging_dir='./logs_augmented',\n",
    "    logging_steps=10,\n",
    "    eval_strategy=\"steps\",\n",
    "    eval_steps=10,\n",
    "    save_strategy=\"steps\",\n",
    "    save_steps=10,\n",
    "    load_best_model_at_end=True,\n",
    ")\n",
    "\n",
    "trainer = Trainer(\n",
    "    model=model,\n",
    "    args=training_args,\n",
    "    train_dataset=train_dataset,\n",
    "    eval_dataset=test_dataset\n",
    ")\n",
    "\n",
    "print(\"\\nMemulai proses fine-tuning IndoBERT dengan data augmentasi...\")\n",
    "trainer.train()\n",
    "print(\"Pelatihan IndoBERT selesai.\")\n",
    "\n",
    "predictions_bert = trainer.predict(test_dataset)\n",
    "y_pred_indices_bert = np.argmax(predictions_bert.predictions, axis=1)\n",
    "y_pred_bert = [labels[i] for i in y_pred_indices_bert]\n",
    "y_true_bert = test_df_bert['label'].map({v: k for k, v in label_map.items()}).tolist()"
   ]
  },
  {
   "cell_type": "code",
   "execution_count": 9,
   "id": "3c88c9f6",
   "metadata": {},
   "outputs": [
    {
     "name": "stdout",
     "output_type": "stream",
     "text": [
      "\n",
      "\n",
      "--- HASIL PERBANDINGAN PERFORMA MODEL SETELAH AUGMENTASI ---\n",
      "\n",
      "--- 1. Hasil Evaluasi Model TF-IDF dan Logistic Regression ---\n",
      "Akurasi Model: 66.67%\n",
      "\n",
      "Laporan Klasifikasi:\n",
      "              precision    recall  f1-score   support\n",
      "\n",
      "     negatif       0.60      0.60      0.60        10\n",
      "      netral       1.00      0.50      0.67         6\n",
      "     positif       0.65      0.76      0.70        17\n",
      "\n",
      "    accuracy                           0.67        33\n",
      "   macro avg       0.75      0.62      0.66        33\n",
      "weighted avg       0.70      0.67      0.67        33\n",
      "\n",
      "\n",
      "--- 2. Hasil Evaluasi Model IndoBERT ---\n",
      "Akurasi Model: 66.67%\n",
      "\n",
      "Laporan Klasifikasi:\n",
      "              precision    recall  f1-score   support\n",
      "\n",
      "     negatif       0.54      0.70      0.61        10\n",
      "      netral       1.00      0.17      0.29         6\n",
      "     positif       0.74      0.82      0.78        17\n",
      "\n",
      "    accuracy                           0.67        33\n",
      "   macro avg       0.76      0.56      0.56        33\n",
      "weighted avg       0.72      0.67      0.64        33\n",
      "\n",
      "\n",
      "Membuat visualisasi perbandingan Confusion Matrix...\n"
     ]
    },
    {
     "data": {
      "image/png": "[encoded data removed]",
      "text/plain": [
       "<Figure size 1800x700 with 4 Axes>"
      ]
     },
     "metadata": {},
     "output_type": "display_data"
    },
    {
     "name": "stdout",
     "output_type": "stream",
     "text": [
      "\n",
      "✅ Seluruh proses proyek selesai. Anda telah berhasil membandingkan model pada data yang diseimbangkan.\n"
     ]
    }
   ],
   "source": [
    "print(\"\\n\\n--- HASIL PERBANDINGAN PERFORMA MODEL SETELAH AUGMENTASI ---\")\n",
    "\n",
    "# --- Hasil Model TF-IDF dan Logistic Regression ---\n",
    "print(\"\\n--- 1. Hasil Evaluasi Model TF-IDF dan Logistic Regression ---\")\n",
    "accuracy_logreg = accuracy_score(y_test, y_pred_logreg)\n",
    "print(f\"Akurasi Model: {accuracy_logreg:.2%}\")\n",
    "print(\"\\nLaporan Klasifikasi:\")\n",
    "print(classification_report(y_test, y_pred_logreg, labels=labels, zero_division=0))\n",
    "\n",
    "# --- Hasil Model IndoBERT ---\n",
    "print(\"\\n--- 2. Hasil Evaluasi Model IndoBERT ---\")\n",
    "accuracy_bert = accuracy_score(y_true_bert, y_pred_bert)\n",
    "print(f\"Akurasi Model: {accuracy_bert:.2%}\")\n",
    "print(\"\\nLaporan Klasifikasi:\")\n",
    "print(classification_report(y_true_bert, y_pred_bert, labels=labels, zero_division=0))\n",
    "\n",
    "# --- Visualisasi Confusion Matrix Berdampingan ---\n",
    "print(\"\\nMembuat visualisasi perbandingan Confusion Matrix...\")\n",
    "fig, axes = plt.subplots(1, 2, figsize=(18, 7))\n",
    "fig.suptitle('Perbandingan Confusion Matrix Setelah Augmentasi Data', fontsize=20)\n",
    "\n",
    "cm_logreg = confusion_matrix(y_test, y_pred_logreg, labels=labels)\n",
    "sns.heatmap(cm_logreg, annot=True, fmt='d', cmap='Blues', xticklabels=labels, yticklabels=labels, ax=axes[0])\n",
    "axes[0].set_title('TF-IDF + Logistic Regression')\n",
    "axes[0].set_xlabel('Prediksi')\n",
    "axes[0].set_ylabel('Aktual')\n",
    "\n",
    "cm_bert = confusion_matrix(y_test, y_pred_bert, labels=labels)\n",
    "sns.heatmap(cm_bert, annot=True, fmt='d', cmap='Oranges', xticklabels=labels, yticklabels=labels, ax=axes[1])\n",
    "axes[1].set_title('IndoBERT')\n",
    "axes[1].set_xlabel('Prediksi')\n",
    "axes[1].set_ylabel('Aktual')\n",
    "\n",
    "plt.tight_layout(rect=[0, 0, 1, 0.96])\n",
    "plt.show()\n",
    "\n",
    "print(\"\\n✅ Seluruh proses proyek selesai. Anda telah berhasil membandingkan model pada data yang diseimbangkan.\")"
   ]
  }
 ],
 "metadata": {
  "kernelspec": {
   "display_name": "Python 3",
   "language": "python",
   "name": "python3"
  },
  "language_info": {
   "codemirror_mode": {
    "name": "ipython",
    "version": 3
   },
   "file_extension": ".py",
   "mimetype": "text/x-python",
   "name": "python",
   "nbconvert_exporter": "python",
   "pygments_lexer": "ipython3",
   "version": "3.13.3"
  }
 },
 "nbformat": 4,
 "nbformat_minor": 5
}
