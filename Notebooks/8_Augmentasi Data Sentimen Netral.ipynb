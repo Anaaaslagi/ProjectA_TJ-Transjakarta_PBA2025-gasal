{
 "cells": [
  {
   "cell_type": "code",
   "execution_count": 11,
   "id": "c67e5617",
   "metadata": {},
   "outputs": [
    {
     "name": "stdout",
     "output_type": "stream",
     "text": [
      "Defaulting to user installation because normal site-packages is not writeable\n",
      "Requirement already satisfied: pandas in c:\\users\\wede\\appdata\\roaming\\python\\python313\\site-packages (2.3.3)\n",
      "Requirement already satisfied: torch in c:\\users\\wede\\appdata\\roaming\\python\\python313\\site-packages (2.8.0)\n",
      "Requirement already satisfied: transformers in c:\\users\\wede\\appdata\\roaming\\python\\python313\\site-packages (4.56.0)\n",
      "Requirement already satisfied: sentencepiece in c:\\users\\wede\\appdata\\roaming\\python\\python313\\site-packages (0.2.1)\n",
      "Requirement already satisfied: numpy>=1.26.0 in c:\\users\\wede\\appdata\\roaming\\python\\python313\\site-packages (from pandas) (2.3.1)\n",
      "Requirement already satisfied: python-dateutil>=2.8.2 in c:\\users\\wede\\appdata\\roaming\\python\\python313\\site-packages (from pandas) (2.9.0.post0)\n",
      "Requirement already satisfied: pytz>=2020.1 in c:\\users\\wede\\appdata\\roaming\\python\\python313\\site-packages (from pandas) (2025.2)\n",
      "Requirement already satisfied: tzdata>=2022.7 in c:\\users\\wede\\appdata\\roaming\\python\\python313\\site-packages (from pandas) (2025.2)\n",
      "Requirement already satisfied: filelock in c:\\users\\wede\\appdata\\roaming\\python\\python313\\site-packages (from torch) (3.19.1)\n",
      "Requirement already satisfied: typing-extensions>=4.10.0 in c:\\users\\wede\\appdata\\roaming\\python\\python313\\site-packages (from torch) (4.14.1)\n",
      "Requirement already satisfied: sympy>=1.13.3 in c:\\users\\wede\\appdata\\roaming\\python\\python313\\site-packages (from torch) (1.14.0)\n",
      "Requirement already satisfied: networkx in c:\\users\\wede\\appdata\\roaming\\python\\python313\\site-packages (from torch) (3.5)\n",
      "Requirement already satisfied: jinja2 in c:\\users\\wede\\appdata\\roaming\\python\\python313\\site-packages (from torch) (3.1.6)\n",
      "Requirement already satisfied: fsspec in c:\\users\\wede\\appdata\\roaming\\python\\python313\\site-packages (from torch) (2025.3.0)\n",
      "Requirement already satisfied: setuptools in c:\\users\\wede\\appdata\\roaming\\python\\python313\\site-packages (from torch) (80.9.0)\n",
      "Requirement already satisfied: huggingface-hub<1.0,>=0.34.0 in c:\\users\\wede\\appdata\\roaming\\python\\python313\\site-packages (from transformers) (0.34.4)\n",
      "Requirement already satisfied: packaging>=20.0 in c:\\users\\wede\\appdata\\roaming\\python\\python313\\site-packages (from transformers) (25.0)\n",
      "Requirement already satisfied: pyyaml>=5.1 in c:\\users\\wede\\appdata\\roaming\\python\\python313\\site-packages (from transformers) (6.0.2)\n",
      "Requirement already satisfied: regex!=2019.12.17 in c:\\users\\wede\\appdata\\roaming\\python\\python313\\site-packages (from transformers) (2025.7.34)\n",
      "Requirement already satisfied: requests in c:\\users\\wede\\appdata\\roaming\\python\\python313\\site-packages (from transformers) (2.32.4)\n",
      "Requirement already satisfied: tokenizers<=0.23.0,>=0.22.0 in c:\\users\\wede\\appdata\\roaming\\python\\python313\\site-packages (from transformers) (0.22.0)\n",
      "Requirement already satisfied: safetensors>=0.4.3 in c:\\users\\wede\\appdata\\roaming\\python\\python313\\site-packages (from transformers) (0.6.2)\n",
      "Requirement already satisfied: tqdm>=4.27 in c:\\users\\wede\\appdata\\roaming\\python\\python313\\site-packages (from transformers) (4.67.1)\n",
      "Requirement already satisfied: six>=1.5 in c:\\users\\wede\\appdata\\roaming\\python\\python313\\site-packages (from python-dateutil>=2.8.2->pandas) (1.17.0)\n",
      "Requirement already satisfied: mpmath<1.4,>=1.1.0 in c:\\users\\wede\\appdata\\roaming\\python\\python313\\site-packages (from sympy>=1.13.3->torch) (1.3.0)\n",
      "Requirement already satisfied: colorama in c:\\users\\wede\\appdata\\roaming\\python\\python313\\site-packages (from tqdm>=4.27->transformers) (0.4.6)\n",
      "Requirement already satisfied: MarkupSafe>=2.0 in c:\\users\\wede\\appdata\\roaming\\python\\python313\\site-packages (from jinja2->torch) (3.0.2)\n",
      "Requirement already satisfied: charset_normalizer<4,>=2 in c:\\users\\wede\\appdata\\roaming\\python\\python313\\site-packages (from requests->transformers) (3.4.2)\n",
      "Requirement already satisfied: idna<4,>=2.5 in c:\\users\\wede\\appdata\\roaming\\python\\python313\\site-packages (from requests->transformers) (3.10)\n",
      "Requirement already satisfied: urllib3<3,>=1.21.1 in c:\\users\\wede\\appdata\\roaming\\python\\python313\\site-packages (from requests->transformers) (2.5.0)\n",
      "Requirement already satisfied: certifi>=2017.4.17 in c:\\users\\wede\\appdata\\roaming\\python\\python313\\site-packages (from requests->transformers) (2025.8.3)\n"
     ]
    }
   ],
   "source": [
    "!pip install pandas torch transformers sentencepiece"
   ]
  },
  {
   "cell_type": "code",
   "execution_count": 12,
   "id": "fdd4a850",
   "metadata": {},
   "outputs": [],
   "source": [
    "import pandas as pd\n",
    "from transformers import pipeline"
   ]
  },
  {
   "cell_type": "code",
   "execution_count": 13,
   "id": "4195208d",
   "metadata": {},
   "outputs": [
    {
     "name": "stdout",
     "output_type": "stream",
     "text": [
      "--- Mempersiapkan Model Terjemahan ---\n",
      "Memuat model dari Indonesia ke Inggris...\n"
     ]
    },
    {
     "name": "stderr",
     "output_type": "stream",
     "text": [
      "Device set to use cpu\n"
     ]
    },
    {
     "name": "stdout",
     "output_type": "stream",
     "text": [
      "Memuat model dari Inggris ke Indonesia...\n"
     ]
    },
    {
     "name": "stderr",
     "output_type": "stream",
     "text": [
      "Device set to use cpu\n"
     ]
    },
    {
     "name": "stdout",
     "output_type": "stream",
     "text": [
      "Model terjemahan berhasil dimuat.\n"
     ]
    }
   ],
   "source": [
    "# --- Persiapan Model Terjemahan ---\n",
    "print(\"--- Mempersiapkan Model Terjemahan ---\")\n",
    "print(\"Memuat model dari Indonesia ke Inggris...\")\n",
    "translator_id_to_en = pipeline(\"translation\", model=\"Helsinki-NLP/opus-mt-id-en\")\n",
    "\n",
    "print(\"Memuat model dari Inggris ke Indonesia...\")\n",
    "translator_en_to_id = pipeline(\"translation\", model=\"Helsinki-NLP/opus-mt-en-id\")\n",
    "print(\"Model terjemahan berhasil dimuat.\")"
   ]
  },
  {
   "cell_type": "code",
   "execution_count": 14,
   "id": "868cd58d",
   "metadata": {},
   "outputs": [
    {
     "name": "stdout",
     "output_type": "stream",
     "text": [
      "\n",
      "File '../Data/hasil_pelabelan_transjakarta.csv' berhasil dibaca. Jumlah data awal: 150 baris.\n",
      "Ditemukan 14 berita dengan sentimen 'netral' untuk di-augmentasi.\n"
     ]
    }
   ],
   "source": [
    "# --- Membaca Data dan Filter Sentimen Netral ---\n",
    "input_filename = '../Data/hasil_pelabelan_transjakarta.csv'\n",
    "try:\n",
    "    df = pd.read_csv(input_filename)\n",
    "    df.dropna(subset=['Teks_Stemmed'], inplace=True)\n",
    "    df = df[df['Teks_Stemmed'].str.strip() != '']\n",
    "    print(f\"\\nFile '{input_filename}' berhasil dibaca. Jumlah data awal: {len(df)} baris.\")\n",
    "except FileNotFoundError:\n",
    "    print(f\"Error: File '{input_filename}' tidak ditemukan.\")\n",
    "    exit()\n",
    "\n",
    "df_netral = df[df['Sentimen'] == 'netral'].copy()\n",
    "print(f\"Ditemukan {len(df_netral)} berita dengan sentimen 'netral' untuk di-augmentasi.\")"
   ]
  },
  {
   "cell_type": "code",
   "execution_count": 15,
   "id": "28903cc0",
   "metadata": {},
   "outputs": [
    {
     "name": "stderr",
     "output_type": "stream",
     "text": [
      "Token indices sequence length is longer than the specified maximum sequence length for this model (528 > 512). Running this sequence through the model will result in indexing errors\n"
     ]
    },
    {
     "name": "stdout",
     "output_type": "stream",
     "text": [
      "\n",
      "Memulai proses augmentasi (back-translation)...\n",
      "Gagal meng-augmentasi teks karena error: index out of range in self. Melewati baris ini.\n",
      "Gagal meng-augmentasi teks karena error: index out of range in self. Melewati baris ini.\n",
      "Berhasil meng-augmentasi 1 baris...\n",
      "Berhasil meng-augmentasi 1 baris...\n",
      "Gagal meng-augmentasi teks karena error: index out of range in self. Melewati baris ini.\n",
      "Berhasil meng-augmentasi 1 baris...\n",
      "Gagal meng-augmentasi teks karena error: index out of range in self. Melewati baris ini.\n",
      "Gagal meng-augmentasi teks karena error: index out of range in self. Melewati baris ini.\n",
      "Berhasil meng-augmentasi 1 baris...\n",
      "Berhasil meng-augmentasi 1 baris...\n",
      "Berhasil meng-augmentasi 1 baris...\n",
      "Berhasil meng-augmentasi 1 baris...\n",
      "Gagal meng-augmentasi teks karena error: index out of range in self. Melewati baris ini.\n",
      "Gagal meng-augmentasi teks karena error: index out of range in self. Melewati baris ini.\n"
     ]
    }
   ],
   "source": [
    "# --- Proses Back-Translation ---\n",
    "print(\"\\nMemulai proses augmentasi (back-translation)...\")\n",
    "augmented_texts = []\n",
    "for text in df_netral['Teks_Lengkap']: # Kita augmentasi teks asli sebelum di-stemming\n",
    "    try:\n",
    "        # Terjemahkan ke Bahasa Inggris\n",
    "        translated_to_en = translator_id_to_en(text, max_length=5000)[0]['translation_text']\n",
    "        \n",
    "        # Terjemahkan kembali ke Bahasa Indonesia\n",
    "        back_translated_text = translator_en_to_id(translated_to_en, max_length=5000)[0]['translation_text']\n",
    "        \n",
    "        augmented_texts.append(back_translated_text)\n",
    "        print(f\"Berhasil meng-augmentasi 1 baris...\")\n",
    "    except Exception as e:\n",
    "        print(f\"Gagal meng-augmentasi teks karena error: {e}. Melewati baris ini.\")\n",
    "        augmented_texts.append(text) # Jika gagal, gunakan teks asli\n",
    "\n",
    "# Buat DataFrame baru untuk data yang sudah di-augmentasi\n",
    "df_augmented = df_netral.copy()\n",
    "df_augmented['Teks_Lengkap'] = augmented_texts\n",
    "# Tambahkan penanda bahwa ini adalah data augmentasi\n",
    "df_augmented['is_augmented'] = True\n",
    "df['is_augmented'] = False # Tandai data asli"
   ]
  },
  {
   "cell_type": "code",
   "execution_count": 16,
   "id": "75875c1c",
   "metadata": {},
   "outputs": [
    {
     "name": "stdout",
     "output_type": "stream",
     "text": [
      "\n",
      "✅ Proses augmentasi selesai.\n",
      "Jumlah data setelah augmentasi: 164 baris.\n",
      "Hasil disimpan di file: ../Data/hasil_augmentasi_transjakarta.csv\n",
      "\n",
      "Distribusi Sentimen Baru:\n",
      "Sentimen\n",
      "positif    84\n",
      "negatif    52\n",
      "netral     28\n",
      "Name: count, dtype: int64\n"
     ]
    }
   ],
   "source": [
    "# --- Menggabungkan dan Menyimpan Data ---\n",
    "# Gabungkan data asli dengan data hasil augmentasi\n",
    "df_final_augmented = pd.concat([df, df_augmented], ignore_index=True)\n",
    "\n",
    "output_filename = '../Data/hasil_augmentasi_transjakarta.csv'\n",
    "df_final_augmented.to_csv(output_filename, index=False, encoding='utf-8')\n",
    "\n",
    "print(f\"\\n✅ Proses augmentasi selesai.\")\n",
    "print(f\"Jumlah data setelah augmentasi: {len(df_final_augmented)} baris.\")\n",
    "print(f\"Hasil disimpan di file: {output_filename}\")\n",
    "print(\"\\nDistribusi Sentimen Baru:\")\n",
    "print(df_final_augmented['Sentimen'].value_counts())"
   ]
  }
 ],
 "metadata": {
  "kernelspec": {
   "display_name": "Python 3",
   "language": "python",
   "name": "python3"
  },
  "language_info": {
   "codemirror_mode": {
    "name": "ipython",
    "version": 3
   },
   "file_extension": ".py",
   "mimetype": "text/x-python",
   "name": "python",
   "nbconvert_exporter": "python",
   "pygments_lexer": "ipython3",
   "version": "3.13.3"
  }
 },
 "nbformat": 4,
 "nbformat_minor": 5
}
