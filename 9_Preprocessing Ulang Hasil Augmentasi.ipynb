{
 "cells": [
  {
   "cell_type": "code",
   "execution_count": 1,
   "id": "a8097ca0",
   "metadata": {},
   "outputs": [
    {
     "name": "stdout",
     "output_type": "stream",
     "text": [
      "Defaulting to user installation because normal site-packages is not writeable\n",
      "Requirement already satisfied: pandas in c:\\users\\wede\\appdata\\roaming\\python\\python313\\site-packages (2.3.3)\n",
      "Requirement already satisfied: sastrawi in c:\\users\\wede\\appdata\\roaming\\python\\python313\\site-packages (1.0.1)\n",
      "Requirement already satisfied: nltk in c:\\users\\wede\\appdata\\roaming\\python\\python313\\site-packages (3.9.1)\n",
      "Requirement already satisfied: numpy>=1.26.0 in c:\\users\\wede\\appdata\\roaming\\python\\python313\\site-packages (from pandas) (2.3.1)\n",
      "Requirement already satisfied: python-dateutil>=2.8.2 in c:\\users\\wede\\appdata\\roaming\\python\\python313\\site-packages (from pandas) (2.9.0.post0)\n",
      "Requirement already satisfied: pytz>=2020.1 in c:\\users\\wede\\appdata\\roaming\\python\\python313\\site-packages (from pandas) (2025.2)\n",
      "Requirement already satisfied: tzdata>=2022.7 in c:\\users\\wede\\appdata\\roaming\\python\\python313\\site-packages (from pandas) (2025.2)\n",
      "Requirement already satisfied: click in c:\\users\\wede\\appdata\\roaming\\python\\python313\\site-packages (from nltk) (8.2.1)\n",
      "Requirement already satisfied: joblib in c:\\users\\wede\\appdata\\roaming\\python\\python313\\site-packages (from nltk) (1.5.1)\n",
      "Requirement already satisfied: regex>=2021.8.3 in c:\\users\\wede\\appdata\\roaming\\python\\python313\\site-packages (from nltk) (2025.7.34)\n",
      "Requirement already satisfied: tqdm in c:\\users\\wede\\appdata\\roaming\\python\\python313\\site-packages (from nltk) (4.67.1)\n",
      "Requirement already satisfied: six>=1.5 in c:\\users\\wede\\appdata\\roaming\\python\\python313\\site-packages (from python-dateutil>=2.8.2->pandas) (1.17.0)\n",
      "Requirement already satisfied: colorama in c:\\users\\wede\\appdata\\roaming\\python\\python313\\site-packages (from click->nltk) (0.4.6)\n"
     ]
    }
   ],
   "source": [
    "!pip install pandas sastrawi nltk"
   ]
  },
  {
   "cell_type": "code",
   "execution_count": 2,
   "id": "73baa010",
   "metadata": {},
   "outputs": [],
   "source": [
    "import pandas as pd\n",
    "import re\n",
    "from Sastrawi.Stemmer.StemmerFactory import StemmerFactory\n",
    "from Sastrawi.StopWordRemover.StopWordRemoverFactory import StopWordRemoverFactory"
   ]
  },
  {
   "cell_type": "code",
   "execution_count": 3,
   "id": "446ff23b",
   "metadata": {},
   "outputs": [
    {
     "name": "stdout",
     "output_type": "stream",
     "text": [
      "File '../Data/hasil_augmentasi_transjakarta.csv' berhasil dibaca. Jumlah data: 164 baris.\n"
     ]
    }
   ],
   "source": [
    "# --- Membaca File Hasil Augmentasi ---\n",
    "input_filename = '../Data/hasil_augmentasi_transjakarta.csv'\n",
    "try:\n",
    "    df = pd.read_csv(input_filename)\n",
    "    print(f\"File '{input_filename}' berhasil dibaca. Jumlah data: {len(df)} baris.\")\n",
    "except FileNotFoundError:\n",
    "    print(f\"Error: File '{input_filename}' tidak ditemukan.\")\n",
    "    exit()"
   ]
  },
  {
   "cell_type": "code",
   "execution_count": 4,
   "id": "e70d390c",
   "metadata": {},
   "outputs": [],
   "source": [
    "# --- Inisialisasi Ulang Fungsi Preprocessing ---\n",
    "def case_folding(text):\n",
    "    return text.lower()\n",
    "\n",
    "def clean_text(text):\n",
    "    text = re.sub(r'https?://\\S+|www\\.\\S+', '', text)\n",
    "    text = re.sub(r'<.*?>', '', text)\n",
    "    text = re.sub(r'[^a-zA-Z\\s]', '', text)\n",
    "    text = re.sub(r'\\s+', ' ', text).strip()\n",
    "    return text\n",
    "\n",
    "stopword_factory = StopWordRemoverFactory()\n",
    "stopword_list = stopword_factory.get_stop_words()\n",
    "stopword_list.extend(['rp', 'dki', 'jakarta'])\n",
    "stopword_remover = stopword_factory.create_stop_word_remover()\n",
    "\n",
    "def remove_stopwords(text):\n",
    "    return stopword_remover.remove(text)\n",
    "\n",
    "stemmer_factory = StemmerFactory()\n",
    "stemmer = stemmer_factory.create_stemmer()\n",
    "\n",
    "def stem_text(text):\n",
    "    return stemmer.stem(text)"
   ]
  },
  {
   "cell_type": "code",
   "execution_count": 5,
   "id": "c4f100fb",
   "metadata": {},
   "outputs": [
    {
     "name": "stdout",
     "output_type": "stream",
     "text": [
      "\n",
      "Memulai proses preprocessing ulang pada data yang sudah di-augmentasi...\n",
      "Preprocessing ulang selesai.\n"
     ]
    }
   ],
   "source": [
    "# --- Menjalankan Ulang Pipeline Preprocessing ---\n",
    "print(\"\\nMemulai proses preprocessing ulang pada data yang sudah di-augmentasi...\")\n",
    "\n",
    "def preprocess_pipeline(text):\n",
    "    if not isinstance(text, str):\n",
    "        return \"\"\n",
    "    text = case_folding(text)\n",
    "    text = clean_text(text)\n",
    "    text = remove_stopwords(text)\n",
    "    text = stem_text(text)\n",
    "    return text\n",
    "\n",
    "df['Teks_Stemmed'] = df['Teks_Lengkap'].apply(preprocess_pipeline)\n",
    "print(\"Preprocessing ulang selesai.\")\n",
    "\n",
    "# Hapus baris yang mungkin menjadi kosong setelah preprocessing\n",
    "df.dropna(subset=['Teks_Stemmed'], inplace=True)\n",
    "df = df[df['Teks_Stemmed'].str.strip() != '']"
   ]
  },
  {
   "cell_type": "code",
   "execution_count": 6,
   "id": "9c5a5048",
   "metadata": {},
   "outputs": [
    {
     "name": "stdout",
     "output_type": "stream",
     "text": [
      "\n",
      "✅ Proses selesai. Data yang bersih dan seimbang disimpan di file: ../Data/hasil_preprocessed_augmented.csv\n",
      "Jumlah data final yang siap untuk model: 164\n",
      "\n",
      "Distribusi Sentimen Final:\n",
      "Sentimen\n",
      "positif    84\n",
      "negatif    52\n",
      "netral     28\n",
      "Name: count, dtype: int64\n"
     ]
    }
   ],
   "source": [
    "# --- Menyimpan Hasil Akhir ---\n",
    "output_filename = '../Data/hasil_preprocessed_augmented.csv'\n",
    "df.to_csv(output_filename, index=False, encoding='utf-8')\n",
    "\n",
    "print(f\"\\n✅ Proses selesai. Data yang bersih dan seimbang disimpan di file: {output_filename}\")\n",
    "print(f\"Jumlah data final yang siap untuk model: {len(df)}\")\n",
    "print(\"\\nDistribusi Sentimen Final:\")\n",
    "print(df['Sentimen'].value_counts())"
   ]
  }
 ],
 "metadata": {
  "kernelspec": {
   "display_name": "Python 3",
   "language": "python",
   "name": "python3"
  },
  "language_info": {
   "codemirror_mode": {
    "name": "ipython",
    "version": 3
   },
   "file_extension": ".py",
   "mimetype": "text/x-python",
   "name": "python",
   "nbconvert_exporter": "python",
   "pygments_lexer": "ipython3",
   "version": "3.13.3"
  }
 },
 "nbformat": 4,
 "nbformat_minor": 5
}
