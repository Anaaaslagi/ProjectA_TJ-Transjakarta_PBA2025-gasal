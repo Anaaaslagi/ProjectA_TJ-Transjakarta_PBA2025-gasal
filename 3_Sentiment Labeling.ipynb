{
 "cells": [
  {
   "cell_type": "markdown",
   "id": "b63d1df8",
   "metadata": {},
   "source": [
    "# Tahap 3: Pelabelan Sentimen Berbasis Leksikon\n",
    "\n",
    "### Pastikan Anda sudah menginstal library yang dibutuhkan:\n",
    "### pip install pandas"
   ]
  },
  {
   "cell_type": "code",
   "execution_count": 7,
   "id": "209c0558",
   "metadata": {},
   "outputs": [],
   "source": [
    "import pandas as pd\n",
    "import nltk\n",
    "\n",
    "# --- Download kamus NLTK jika belum ada ---\n",
    "try:\n",
    "    nltk.data.find('tokenizers/punkt')\n",
    "except nltk.downloader.DownloadError:\n",
    "    nltk.download('punkt')"
   ]
  },
  {
   "cell_type": "code",
   "execution_count": 8,
   "id": "563bd7a1",
   "metadata": {},
   "outputs": [
    {
     "name": "stdout",
     "output_type": "stream",
     "text": [
      "File '../Data/hasil_preprocessing_transjakarta.csv' berhasil dibaca. Jumlah data: 150 baris.\n"
     ]
    }
   ],
   "source": [
    "# --- 1. Membaca File Hasil Preprocessing ---\n",
    "input_filepath = '../Data/hasil_preprocessing_transjakarta.csv'\n",
    "try:\n",
    "    df = pd.read_csv(input_filepath)\n",
    "    print(f\"File '{input_filepath}' berhasil dibaca. Jumlah data: {len(df)} baris.\")\n",
    "except FileNotFoundError:\n",
    "    print(f\"Error: File '{input_filepath}' tidak ditemukan.\")\n",
    "    exit()"
   ]
  },
  {
   "cell_type": "code",
   "execution_count": 9,
   "id": "4248cea2",
   "metadata": {},
   "outputs": [],
   "source": [
    "# --- 2. Membangun Kamus Leksikon Sederhana ---\n",
    "# Kamus ini bisa diperkaya agar lebih akurat\n",
    "positive_words = [\n",
    "    'aman', 'bangga', 'baik', 'bahagia', 'baru', 'berhasil', 'bermanfaat', 'bersih',\n",
    "    'dukung', 'efisien', 'efektif', 'gratis', 'gembira', 'hebat', 'inovasi',\n",
    "    'lancar', 'maju', 'membantu', 'membaik', 'memudahkan', 'meningkat',\n",
    "    'nyaman', 'optimis', 'penghargaan', 'positif', 'puas', 'ramah', 'solusi',\n",
    "    'sukses', 'terbantu', 'terbaik', 'terjangkau', 'cepat', 'untung', 'mudah', 'senang',\n",
    "    'andal', 'apresiasi', 'gratis', 'hemat', 'lengkap', 'modern', 'promo', 'solutif'\n",
    "]\n",
    "\n",
    "negative_words = [\n",
    "    'antre', 'mogok', 'rusak', 'terganggu', 'kecelakaan', 'keluhan', 'kriminal',\n",
    "    'terbakar', 'demo', 'macet', 'masalah', 'negatif', 'protes', 'ricuh',\n",
    "    'salah', 'sulit', 'terlambat', 'tewas', 'buruk', 'celaka', 'curang', 'gagal',\n",
    "    'jelek', 'kecewa', 'korban', 'lambat', 'mahal', 'menurun', 'merugi',\n",
    "    'sesak', 'sakit', 'susah', 'tilang', 'aniaya', 'ancam', 'bahaya', 'bentrok',\n",
    "\n",
    "    'leceh', 'menjerit', 'padat', 'penumpukan', 'vandalisme'\n",
    "]"
   ]
  },
  {
   "cell_type": "code",
   "execution_count": 10,
   "id": "5dd9a540",
   "metadata": {},
   "outputs": [],
   "source": [
    "# --- 3. Fungsi untuk Pelabelan Sentimen ---\n",
    "def label_sentiment(text):\n",
    "    if not isinstance(text, str):\n",
    "        return 'netral' # Kembalikan netral jika teks kosong atau bukan string\n",
    "        \n",
    "    positive_score = 0\n",
    "    negative_score = 0\n",
    "    \n",
    "    # Tokenisasi teks menjadi kata-kata\n",
    "    words = nltk.word_tokenize(text)\n",
    "    \n",
    "    # Hitung skor positif dan negatif\n",
    "    for word in words:\n",
    "        if word in positive_words:\n",
    "            positive_score += 1\n",
    "        elif word in negative_words:\n",
    "            negative_score += 1\n",
    "            \n",
    "    # Tentukan sentimen berdasarkan perbandingan skor\n",
    "    if positive_score > negative_score:\n",
    "        return 'positif'\n",
    "    elif negative_score > positive_score:\n",
    "        return 'negatif'\n",
    "    else:\n",
    "        return 'netral'"
   ]
  },
  {
   "cell_type": "code",
   "execution_count": 11,
   "id": "5847aae2",
   "metadata": {},
   "outputs": [
    {
     "name": "stdout",
     "output_type": "stream",
     "text": [
      "\n",
      "Memulai proses pelabelan sentimen...\n",
      "Proses pelabelan selesai.\n"
     ]
    }
   ],
   "source": [
    "# --- 4. Terapkan Fungsi Pelabelan ---\n",
    "# Kita gunakan kolom 'Teks_Stemmed' karena lebih bersih\n",
    "print(\"\\nMemulai proses pelabelan sentimen...\")\n",
    "df['Sentimen'] = df['Teks_Stemmed'].apply(label_sentiment)\n",
    "print(\"Proses pelabelan selesai.\")"
   ]
  },
  {
   "cell_type": "code",
   "execution_count": 12,
   "id": "41e28605",
   "metadata": {},
   "outputs": [
    {
     "name": "stdout",
     "output_type": "stream",
     "text": [
      "\n",
      "✅ Proses pelabelan selesai. Hasil disimpan di file: ../Data/hasil_pelabelan_transjakarta.csv\n",
      "\n",
      "Distribusi Sentimen:\n",
      "Sentimen\n",
      "positif    84\n",
      "negatif    52\n",
      "netral     14\n",
      "Name: count, dtype: int64\n",
      "\n",
      "Cuplikan 5 baris pertama dari data hasil pelabelan:\n",
      "                                        Teks_Stemmed Sentimen\n",
      "0  hore transjakarta moda raya padu lintas rel pa...  positif\n",
      "1  layan transjakarta ganggu imbas demo daftar ru...  positif\n",
      "2  truk mogok jalan gatsu arah cawang rute transj...  negatif\n",
      "3  rano karno rute transjakarta ancolblok luncur ...  positif\n",
      "4  bus listrik transjakarta celaka setiabudi rem ...  negatif\n"
     ]
    }
   ],
   "source": [
    "# --- 5. Menyimpan Hasil ---\n",
    "output_filepath = '../Data/hasil_pelabelan_transjakarta.csv'\n",
    "df.to_csv(output_filepath, index=False, encoding='utf-8')\n",
    "print(f\"\\n✅ Proses pelabelan selesai. Hasil disimpan di file: {output_filepath}\")\n",
    "\n",
    "# Menampilkan distribusi sentimen dan cuplikan hasil\n",
    "print(\"\\nDistribusi Sentimen:\")\n",
    "print(df['Sentimen'].value_counts())\n",
    "\n",
    "print(\"\\nCuplikan 5 baris pertama dari data hasil pelabelan:\")\n",
    "print(df[['Teks_Stemmed', 'Sentimen']].head())"
   ]
  }
 ],
 "metadata": {
  "kernelspec": {
   "display_name": "Python 3",
   "language": "python",
   "name": "python3"
  },
  "language_info": {
   "codemirror_mode": {
    "name": "ipython",
    "version": 3
   },
   "file_extension": ".py",
   "mimetype": "text/x-python",
   "name": "python",
   "nbconvert_exporter": "python",
   "pygments_lexer": "ipython3",
   "version": "3.13.3"
  }
 },
 "nbformat": 4,
 "nbformat_minor": 5
}
